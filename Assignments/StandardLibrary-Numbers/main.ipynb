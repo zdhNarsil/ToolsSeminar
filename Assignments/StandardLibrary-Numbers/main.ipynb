{
 "cells": [
  {
   "cell_type": "markdown",
   "metadata": {},
   "source": [
    "# Python assignment --- Numbers"
   ]
  },
  {
   "cell_type": "markdown",
   "metadata": {},
   "source": [
    "## Description"
   ]
  },
  {
   "cell_type": "markdown",
   "metadata": {},
   "source": [
    "Use `decimal` and `fractions` module to accomplish two high precision tasks:\n",
    "1. Calculate the $\\sqrt{2}$ for 1000 digits.\n",
    "2. Verify that\n",
    "$$\n",
    "\\begin{align}\n",
    "x &= 154476802108746166441951315019919837485664325669565431700026634898253202035277999 \\\\\n",
    "y &= 36875131794129999827197811565225474825492979968971970996283137471637224634055579 \\\\\n",
    "z &= 4373612677928697257861252602371390152816537558161613618621437993378423467772036\n",
    "\\end{align}\n",
    "$$\n",
    "is an integral solution to the equation\n",
    "$$\n",
    "\\frac{x}{ y + z } + \\frac{y}{ z + x } + \\frac{z}{ x + y } = 4.\n",
    "$$"
   ]
  },
  {
   "cell_type": "markdown",
   "metadata": {},
   "source": [
    "## Imports"
   ]
  },
  {
   "cell_type": "code",
   "execution_count": null,
   "metadata": {},
   "outputs": [],
   "source": [
    "import decimal\n",
    "from decimal import Decimal\n",
    "\n",
    "from fractions import Fraction"
   ]
  },
  {
   "cell_type": "markdown",
   "metadata": {},
   "source": [
    "## Key and Standard output"
   ]
  },
  {
   "cell_type": "markdown",
   "metadata": {},
   "source": [
    "Skip this section for your first reading."
   ]
  },
  {
   "cell_type": "code",
   "execution_count": null,
   "metadata": {},
   "outputs": [],
   "source": [
    "decimal.getcontext().prec = 1000\n",
    "\n",
    "sqrt2 = Decimal(\"2\") ** Decimal(\"0.5\")\n",
    "\n",
    "print(sqrt2)"
   ]
  },
  {
   "cell_type": "code",
   "execution_count": null,
   "metadata": {},
   "outputs": [],
   "source": [
    "x = Fraction(\"154476802108746166441951315019919837485664325669565431700026634898253202035277999\")\n",
    "y = Fraction(\"36875131794129999827197811565225474825492979968971970996283137471637224634055579\")\n",
    "z = Fraction(\"4373612677928697257861252602371390152816537558161613618621437993378423467772036\")\n",
    "\n",
    "LHS = x / (y + z) + y / (z + x) + z / (x + y)\n",
    "\n",
    "print(LHS)"
   ]
  },
  {
   "cell_type": "markdown",
   "metadata": {},
   "source": [
    "## Your implementation"
   ]
  },
  {
   "cell_type": "markdown",
   "metadata": {},
   "source": [
    "Try to get the standard output."
   ]
  },
  {
   "cell_type": "code",
   "execution_count": null,
   "metadata": {},
   "outputs": [],
   "source": [
    "## Your code here"
   ]
  },
  {
   "cell_type": "markdown",
   "metadata": {},
   "source": [
    "## Comments"
   ]
  },
  {
   "cell_type": "markdown",
   "metadata": {},
   "source": [
    "Be aware of the following examples."
   ]
  },
  {
   "cell_type": "code",
   "execution_count": null,
   "metadata": {},
   "outputs": [],
   "source": [
    "x = Fraction(\"154476802108746166441951315019919837485664325669565431700026634898253202035277999\")\n",
    "y = Fraction(\"36875131794129999827197811565225474825492979968971970996283137471637224634055579\")\n",
    "z = Fraction(\"4373612677928697257861252602371390152816537558161613618621437993378423467772036\")\n",
    "\n",
    "print(x / (y + z))"
   ]
  },
  {
   "cell_type": "code",
   "execution_count": null,
   "metadata": {},
   "outputs": [],
   "source": [
    "x = 154476802108746166441951315019919837485664325669565431700026634898253202035277999\n",
    "y = 36875131794129999827197811565225474825492979968971970996283137471637224634055579\n",
    "z = 4373612677928697257861252602371390152816537558161613618621437993378423467772036\n",
    "\n",
    "print(x / (y + z))"
   ]
  }
 ],
 "metadata": {
  "kernelspec": {
   "display_name": "Python 3",
   "language": "python",
   "name": "python3"
  },
  "language_info": {
   "codemirror_mode": {
    "name": "ipython",
    "version": 3
   },
   "file_extension": ".py",
   "mimetype": "text/x-python",
   "name": "python",
   "nbconvert_exporter": "python",
   "pygments_lexer": "ipython3",
   "version": "3.6.4"
  },
  "varInspector": {
   "cols": {
    "lenName": 16,
    "lenType": 16,
    "lenVar": 40
   },
   "kernels_config": {
    "python": {
     "delete_cmd_postfix": "",
     "delete_cmd_prefix": "del ",
     "library": "var_list.py",
     "varRefreshCmd": "print(var_dic_list())"
    },
    "r": {
     "delete_cmd_postfix": ") ",
     "delete_cmd_prefix": "rm(",
     "library": "var_list.r",
     "varRefreshCmd": "cat(var_dic_list()) "
    }
   },
   "types_to_exclude": [
    "module",
    "function",
    "builtin_function_or_method",
    "instance",
    "_Feature"
   ],
   "window_display": false
  }
 },
 "nbformat": 4,
 "nbformat_minor": 2
}
