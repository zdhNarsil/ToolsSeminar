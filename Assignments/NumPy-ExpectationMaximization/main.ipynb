{
 "cells": [
  {
   "cell_type": "markdown",
   "metadata": {},
   "source": [
    "# NumPy Assignment --- Expectation Maximization"
   ]
  },
  {
   "cell_type": "markdown",
   "metadata": {},
   "source": [
    "## Description"
   ]
  },
  {
   "cell_type": "markdown",
   "metadata": {},
   "source": [
    "Use Expectation Maximization Algorithm to handle a Gauss Mixture Model.\n",
    "\n",
    "The Gauss Mixture Model can be written as\n",
    "$$\n",
    "p_{\\Theta} (\\mathbf{x}) = \\sum_{ t = 1 }^k a_t \\mathcal{N} ( \\mathbf{x}; \\Sigma_t, \\mu_t )\n",
    "$$\n",
    "with $\\sum_{ t = 1 }^{k} a_t = 1$, where $\\Theta$ stands for $\\Sigma_t$, $\\mu_t$ and $a_t$. Introduce hidden variable $z_{ t i }$, where $i$ goes over indices of data points $\\mathbf{x}_i$ ($1, 2, \\cdots, l$), and then the E(xpectation) step is realized by\n",
    "$$\n",
    "z_{ t i } \\propto a_t \\mathcal{N} ( \\mathbf{x_i}; \\Sigma_t, \\mu_t ).\n",
    "$$\n",
    "The M(aximization) step is realized by maximizing an estimation of likelihood, which is equivalent to\n",
    "$$\n",
    "\\min \\sum_{ t = 1 }^k \\sum_{ i = 1 }^l u_{ t i } ( -\\log a_t + \\log u_{ t i } + \\frac{1}{2} ( \\mathbf{x}_i - \\mu_t )^{\\mathrm{T}} \\Sigma_t^{-1} ( \\mathbf{x}_i - \\mu_t ) + \\frac{1}{2} \\log \\det \\Sigma_t ),\n",
    "$$\n",
    "and this can be explicitly reduced to\n",
    "$$\n",
    "\\begin{gathered}\n",
    "a_t \\propto \\sum_{ i = 1 }^l u_{ i t }, \\\\\n",
    "\\mu_t = \\frac{ \\sum_{ i = 1 }^l u_{ i t } \\mathbf{x}_i }{ \\sum_{ i = 1 }^l u_{ i t } }, \\\\\n",
    "\\Sigma_t = \\frac{ \\sum_{ i = 1 }^l u_{ i t } ( \\mathbf{x}_i - \\mu_t ) ( \\mathbf{x}_i - \\mu_t )^{\\mathrm{T}} }{ \\sum_{ i = 1 }^l u_{ i t } }.\n",
    "\\end{gathered}\n",
    "$$\n",
    "\n",
    "Note that $\\mathcal{N} ( \\mathbf{x}; \\Sigma, \\mu )$ can be implemented by `rv.pdf(x)`, where `rv` is a random variable defined by `rv = stats.multivariate_normal(mu, sigma)`.\n",
    "\n",
    "For implementation, initial value of $u$ are generated randomly, and M steps and E steps are performed in a consecutive order."
   ]
  },
  {
   "cell_type": "markdown",
   "metadata": {},
   "source": [
    "## Data generation"
   ]
  },
  {
   "cell_type": "code",
   "execution_count": null,
   "metadata": {},
   "outputs": [],
   "source": [
    "import random\n",
    "\n",
    "import numpy\n",
    "from scipy import stats\n",
    "\n",
    "from matplotlib import pyplot"
   ]
  },
  {
   "cell_type": "code",
   "execution_count": null,
   "metadata": {},
   "outputs": [],
   "source": [
    "numpy.random.seed(0)"
   ]
  },
  {
   "cell_type": "code",
   "execution_count": null,
   "metadata": {},
   "outputs": [],
   "source": [
    "k = 4\n",
    "\n",
    "locs = [[5., 5.], [10, -2.], [12., 2.], [6., -4]]\n",
    "covars = [[[8., 4.], [4., 8.]], [[1., -0.2], [-0.2, 0.5]], [[0.5, 0.], [0., 1.5]], [[9., -1.8], [-1.8, 0.4]]]\n",
    "ns = [200, 100, 70, 30]\n",
    "\n",
    "rvs = [stats.multivariate_normal(locs[i], covars[i]) for i in range(k)]\n",
    "\n",
    "coors = [rvs[i].rvs(size=ns[i]) for i in range(k)]\n",
    "x = numpy.concatenate(coors)\n",
    "\n",
    "l = x.shape[0]"
   ]
  },
  {
   "cell_type": "code",
   "execution_count": null,
   "metadata": {},
   "outputs": [],
   "source": [
    "fig = pyplot.figure(figsize=(8., 8.))\n",
    "ax = fig.add_subplot(1, 1, 1)\n",
    "for i in range(k):\n",
    "    ax.scatter(coors[i][:, 0], coors[i][:, 1])\n",
    "ax.set_aspect(\"equal\")\n",
    "pyplot.show()\n",
    "pyplot.close()"
   ]
  },
  {
   "cell_type": "markdown",
   "metadata": {},
   "source": [
    "## Key"
   ]
  },
  {
   "cell_type": "markdown",
   "metadata": {},
   "source": [
    "Skip this part for first reading."
   ]
  },
  {
   "cell_type": "code",
   "execution_count": null,
   "metadata": {},
   "outputs": [],
   "source": [
    "numpy.random.seed(0)\n",
    "\n",
    "u = numpy.random.rand(k, l)\n",
    "u /= u.sum(axis=0)"
   ]
  },
  {
   "cell_type": "code",
   "execution_count": null,
   "metadata": {},
   "outputs": [],
   "source": [
    "for i in range(200):\n",
    "    a = u.sum(axis=1)\n",
    "    a /= a.sum()\n",
    "    \n",
    "    mu = u.dot(x) / u.sum(axis=1)[:, numpy.newaxis]\n",
    "    \n",
    "    d = x[numpy.newaxis, :, :] - mu[:, numpy.newaxis, :]\n",
    "    \n",
    "    sigma = (u[:, :, numpy.newaxis, numpy.newaxis] * d[:, :, :, numpy.newaxis] * d[:, :, numpy.newaxis, :]).sum(axis=1) / u.sum(axis=1)[:, numpy.newaxis, numpy.newaxis]\n",
    "    \n",
    "    dists = [stats.multivariate_normal(mu[i], sigma[i]) for i in range(k)]\n",
    "    \n",
    "    u = numpy.array([dists[i].pdf(x) for i in range(k)]) * a.reshape(k, 1)\n",
    "    u /= u.sum(axis=0)"
   ]
  },
  {
   "cell_type": "markdown",
   "metadata": {},
   "source": [
    "## Standard output"
   ]
  },
  {
   "cell_type": "code",
   "execution_count": null,
   "metadata": {},
   "outputs": [],
   "source": [
    "cl = numpy.argmax(u, axis=0)"
   ]
  },
  {
   "cell_type": "code",
   "execution_count": null,
   "metadata": {},
   "outputs": [],
   "source": [
    "print(cl)"
   ]
  },
  {
   "cell_type": "markdown",
   "metadata": {},
   "source": [
    "## Result visualization"
   ]
  },
  {
   "cell_type": "code",
   "execution_count": null,
   "metadata": {},
   "outputs": [],
   "source": [
    "fig = pyplot.figure()\n",
    "ax = fig.add_subplot(1, 1, 1)\n",
    "for i in range(k):\n",
    "    ax.plot(u[i])\n",
    "pyplot.show()\n",
    "pyplot.close()"
   ]
  },
  {
   "cell_type": "code",
   "execution_count": null,
   "metadata": {},
   "outputs": [],
   "source": [
    "w = [[-4., 14.], [-6., 14.]]\n",
    "\n",
    "xp, yp = numpy.meshgrid(numpy.linspace(*w[0], 100), numpy.linspace(*w[1], 100))\n",
    "pp = numpy.dstack((xp, yp))"
   ]
  },
  {
   "cell_type": "code",
   "execution_count": null,
   "metadata": {},
   "outputs": [],
   "source": [
    "fig = pyplot.figure(figsize=(15, 15))\n",
    "for j in range(k):\n",
    "    ax = fig.add_subplot(2, 2, j+1)\n",
    "    ax.contour(xp, yp, dists[j].pdf(pp))\n",
    "    for i in range(k):\n",
    "        ax.scatter(coors[i][:, 0], coors[i][:, 1])\n",
    "    ax.set_xlim(*w[0])\n",
    "    ax.set_ylim(*w[1])\n",
    "    ax.set_aspect(\"equal\")\n",
    "pyplot.show()\n",
    "pyplot.close()"
   ]
  },
  {
   "cell_type": "code",
   "execution_count": null,
   "metadata": {},
   "outputs": [],
   "source": [
    "print(a)"
   ]
  },
  {
   "cell_type": "markdown",
   "metadata": {},
   "source": [
    "## Your implementation"
   ]
  },
  {
   "cell_type": "markdown",
   "metadata": {},
   "source": [
    "Print the classification result and try to reach the standard output."
   ]
  },
  {
   "cell_type": "code",
   "execution_count": null,
   "metadata": {},
   "outputs": [],
   "source": [
    "numpy.random.seed(0)\n",
    "\n",
    "u = numpy.random.rand(k, l)\n",
    "u /= u.sum(axis=0)"
   ]
  },
  {
   "cell_type": "code",
   "execution_count": null,
   "metadata": {},
   "outputs": [],
   "source": [
    "# Your code here"
   ]
  }
 ],
 "metadata": {
  "kernelspec": {
   "display_name": "Python 3",
   "language": "python",
   "name": "python3"
  },
  "language_info": {
   "codemirror_mode": {
    "name": "ipython",
    "version": 3
   },
   "file_extension": ".py",
   "mimetype": "text/x-python",
   "name": "python",
   "nbconvert_exporter": "python",
   "pygments_lexer": "ipython3",
   "version": "3.6.4"
  },
  "varInspector": {
   "cols": {
    "lenName": 16,
    "lenType": 16,
    "lenVar": 40
   },
   "kernels_config": {
    "python": {
     "delete_cmd_postfix": "",
     "delete_cmd_prefix": "del ",
     "library": "var_list.py",
     "varRefreshCmd": "print(var_dic_list())"
    },
    "r": {
     "delete_cmd_postfix": ") ",
     "delete_cmd_prefix": "rm(",
     "library": "var_list.r",
     "varRefreshCmd": "cat(var_dic_list()) "
    }
   },
   "types_to_exclude": [
    "module",
    "function",
    "builtin_function_or_method",
    "instance",
    "_Feature"
   ],
   "window_display": false
  }
 },
 "nbformat": 4,
 "nbformat_minor": 2
}
