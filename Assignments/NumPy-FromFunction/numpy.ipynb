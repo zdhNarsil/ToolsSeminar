{
 "cells": [
  {
   "cell_type": "markdown",
   "metadata": {},
   "source": [
    "# NumPy Assignment --- From Function"
   ]
  },
  {
   "cell_type": "markdown",
   "metadata": {},
   "source": [
    "## Description"
   ]
  },
  {
   "cell_type": "markdown",
   "metadata": {},
   "source": [
    "Use `numpy.fromfunction()` and `numpy.indices()` to create two Laplacian matrices and *explain how `numpy.fromfunction()` works and the relation between `numpy.fromfunction()` and `numpy.index()`.*\n",
    "\n",
    "The first matrix is an $ n \\times n $ matrix of the form\n",
    "$$\n",
    "\\begin{bmatrix}\n",
    "1 & -1 & 0 & 0 & \\cdots & 0 & 0 \\\\\n",
    "-1 & 2 & -1 & 0 & \\cdots & 0 & 0 \\\\\n",
    "0 & -1 & 2 & -1 & \\cdots & 0 & 0 \\\\\n",
    "0 & 0 & -1 & 2 & \\cdots & 0 & 0 \\\\\n",
    "\\vdots & \\vdots & \\vdots & \\vdots & \\ddots & \\vdots & \\vdots \\\\\n",
    "0 & 0 & 0 & 0 & \\cdots & 2 & -1 \\\\\n",
    "0 & 0 & 0 & 0 & \\cdots & -1 & 1\n",
    "\\end{bmatrix},\n",
    "$$\n",
    "which is actually the Laplacian to the graph of a string with $n$ vertices. Use `numpy.indices()` to construct this matrix.\n",
    "\n",
    "The second matrix is an $ n \\times n $ matrix of the form\n",
    "$$\n",
    "\\begin{bmatrix}\n",
    "2 & -1 & 0 & 0 & \\cdots & 0 & -1 \\\\\n",
    "-1 & 2 & -1 & 0 & \\cdots & 0 & 0 \\\\\n",
    "0 & -1 & 2 & -1 & \\cdots & 0 & 0 \\\\\n",
    "0 & 0 & -1 & 2 & \\cdots & 0 & 0 \\\\\n",
    "\\vdots & \\vdots & \\vdots & \\vdots & \\ddots & \\vdots & \\vdots \\\\\n",
    "0 & 0 & 0 & 0 & \\cdots & 2 & -1 \\\\\n",
    "-1 & 0 & 0 & 0 & \\cdots & -1 & 2\n",
    "\\end{bmatrix},\n",
    "$$\n",
    "which is actually the Laplacian to the graph of a loop with $n$ vertices. Use `numpy.fromfunction()` to construct this matrix.\n",
    "\n",
    "Note that $n$ are valued $10$ for tests."
   ]
  },
  {
   "cell_type": "markdown",
   "metadata": {},
   "source": [
    "## Settings"
   ]
  },
  {
   "cell_type": "code",
   "execution_count": null,
   "metadata": {},
   "outputs": [],
   "source": [
    "import numpy"
   ]
  },
  {
   "cell_type": "code",
   "execution_count": null,
   "metadata": {},
   "outputs": [],
   "source": [
    "n = 10"
   ]
  },
  {
   "cell_type": "markdown",
   "metadata": {},
   "source": [
    "## Key"
   ]
  },
  {
   "cell_type": "markdown",
   "metadata": {},
   "source": [
    "Skip this part for first reading."
   ]
  },
  {
   "cell_type": "code",
   "execution_count": null,
   "metadata": {},
   "outputs": [],
   "source": [
    "x, y = numpy.indices((n, n))\n",
    "\n",
    "s = numpy.zeros((n, n), dtype=numpy.int)\n",
    "\n",
    "s[x == y] = 2\n",
    "s[0, 0] = 1\n",
    "s[n-1, n-1] = 1\n",
    "s[x - y == 1] = -1\n",
    "s[y - x == 1] = -1"
   ]
  },
  {
   "cell_type": "code",
   "execution_count": null,
   "metadata": {},
   "outputs": [],
   "source": [
    "print(s)"
   ]
  },
  {
   "cell_type": "code",
   "execution_count": null,
   "metadata": {},
   "outputs": [],
   "source": [
    "def loop_func(x, y):\n",
    "    assert x.shape[0] == x.shape[1]\n",
    "    \n",
    "    n = x.shape[0]\n",
    "    \n",
    "    ret = (\n",
    "          2 * (x == y)\n",
    "        - (x - y == 1)\n",
    "        - (x - y == -1)\n",
    "        - (x - y == n - 1)\n",
    "        - (x - y == 1 - n)\n",
    "    )\n",
    "    return ret\n",
    "\n",
    "t = numpy.fromfunction(loop_func, (n, n))"
   ]
  },
  {
   "cell_type": "code",
   "execution_count": null,
   "metadata": {},
   "outputs": [],
   "source": [
    "print(t)"
   ]
  },
  {
   "cell_type": "markdown",
   "metadata": {},
   "source": [
    "## Your implementation"
   ]
  },
  {
   "cell_type": "markdown",
   "metadata": {},
   "source": [
    "Remember to think over and explain how `numpy.fromfunction()` works and the relation between `numpy.fromfunction()` and `numpy.index()`."
   ]
  },
  {
   "cell_type": "code",
   "execution_count": null,
   "metadata": {},
   "outputs": [],
   "source": [
    "# Your code here"
   ]
  }
 ],
 "metadata": {
  "kernelspec": {
   "display_name": "Python 3",
   "language": "python",
   "name": "python3"
  },
  "language_info": {
   "codemirror_mode": {
    "name": "ipython",
    "version": 3
   },
   "file_extension": ".py",
   "mimetype": "text/x-python",
   "name": "python",
   "nbconvert_exporter": "python",
   "pygments_lexer": "ipython3",
   "version": "3.6.4"
  },
  "varInspector": {
   "cols": {
    "lenName": 16,
    "lenType": 16,
    "lenVar": 40
   },
   "kernels_config": {
    "python": {
     "delete_cmd_postfix": "",
     "delete_cmd_prefix": "del ",
     "library": "var_list.py",
     "varRefreshCmd": "print(var_dic_list())"
    },
    "r": {
     "delete_cmd_postfix": ") ",
     "delete_cmd_prefix": "rm(",
     "library": "var_list.r",
     "varRefreshCmd": "cat(var_dic_list()) "
    }
   },
   "types_to_exclude": [
    "module",
    "function",
    "builtin_function_or_method",
    "instance",
    "_Feature"
   ],
   "window_display": false
  }
 },
 "nbformat": 4,
 "nbformat_minor": 2
}
