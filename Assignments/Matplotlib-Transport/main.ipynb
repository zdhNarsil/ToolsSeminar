{
 "cells": [
  {
   "cell_type": "markdown",
   "metadata": {},
   "source": [
    "# Matplotlib Assignment --- Transport Plot"
   ]
  },
  {
   "cell_type": "markdown",
   "metadata": {},
   "source": [
    "Plot the transport plan (some links, or say edges of a directed graph) between two set of points.\n",
    "\n",
    "The coordinates of the points are given in `mup` and `nup` as two $n \\times 2$ matrices, and the transport plan is given in a $n \\times n$ matrix `\\pi`. You may use `scatter()` to draw the points, and use `quiver()` to draw lines between the points. It is suggested only to show transports greater than $0.5$."
   ]
  },
  {
   "cell_type": "markdown",
   "metadata": {},
   "source": [
    "## Data generation"
   ]
  },
  {
   "cell_type": "code",
   "execution_count": null,
   "metadata": {},
   "outputs": [],
   "source": [
    "import random\n",
    "\n",
    "import numpy\n",
    "\n",
    "import matplotlib\n",
    "from matplotlib import pyplot"
   ]
  },
  {
   "cell_type": "code",
   "execution_count": null,
   "metadata": {},
   "outputs": [],
   "source": [
    "numpy.random.seed(2)\n",
    "\n",
    "n = 12"
   ]
  },
  {
   "cell_type": "code",
   "execution_count": null,
   "metadata": {},
   "outputs": [],
   "source": [
    "mup = numpy.random.randn(n, 2) * 0.2\n",
    "nup = numpy.random.randn(n, 2) * 0.6 + 1.2\n",
    "\n",
    "pi = numpy.random.rand(n, n)**2"
   ]
  },
  {
   "cell_type": "markdown",
   "metadata": {},
   "source": [
    "## Key and standard output"
   ]
  },
  {
   "cell_type": "markdown",
   "metadata": {},
   "source": [
    "Skip this part for the first reading."
   ]
  },
  {
   "cell_type": "code",
   "execution_count": null,
   "metadata": {},
   "outputs": [],
   "source": [
    "fig = pyplot.figure()\n",
    "ax = fig.add_subplot(1, 1, 1)\n",
    "\n",
    "mask = pi > 0.5\n",
    "\n",
    "ind = numpy.indices((n, n))\n",
    "\n",
    "arr_c = pi[mask]\n",
    "\n",
    "arr_b = mup[ind[0]][mask]\n",
    "arr_e = nup[ind[1]][mask]\n",
    "arr_d = arr_e - arr_b\n",
    "\n",
    "ax.scatter(mup[:, 0], mup[:, 1])\n",
    "ax.scatter(nup[:, 0], nup[:, 1])\n",
    "\n",
    "mpbl = ax.quiver(arr_b[:, 0], arr_b[:, 1], arr_d[:, 0], arr_d[:, 1], arr_c, angles=\"xy\", scale_units=\"xy\", scale=1.,)\n",
    "fig.colorbar(mpbl)\n",
    "\n",
    "ax.set_xlim(-0.6, 2.4)\n",
    "ax.set_ylim(-0.5, 2.8)\n",
    "\n",
    "pyplot.show()\n",
    "\n",
    "pyplot.close(fig)"
   ]
  },
  {
   "cell_type": "markdown",
   "metadata": {},
   "source": [
    "## Your implementation"
   ]
  },
  {
   "cell_type": "code",
   "execution_count": null,
   "metadata": {},
   "outputs": [],
   "source": [
    "# Your code here"
   ]
  }
 ],
 "metadata": {
  "kernelspec": {
   "display_name": "Python 3",
   "language": "python",
   "name": "python3"
  },
  "language_info": {
   "codemirror_mode": {
    "name": "ipython",
    "version": 3
   },
   "file_extension": ".py",
   "mimetype": "text/x-python",
   "name": "python",
   "nbconvert_exporter": "python",
   "pygments_lexer": "ipython3",
   "version": "3.6.4"
  },
  "varInspector": {
   "cols": {
    "lenName": 16,
    "lenType": 16,
    "lenVar": 40
   },
   "kernels_config": {
    "python": {
     "delete_cmd_postfix": "",
     "delete_cmd_prefix": "del ",
     "library": "var_list.py",
     "varRefreshCmd": "print(var_dic_list())"
    },
    "r": {
     "delete_cmd_postfix": ") ",
     "delete_cmd_prefix": "rm(",
     "library": "var_list.r",
     "varRefreshCmd": "cat(var_dic_list()) "
    }
   },
   "types_to_exclude": [
    "module",
    "function",
    "builtin_function_or_method",
    "instance",
    "_Feature"
   ],
   "window_display": false
  }
 },
 "nbformat": 4,
 "nbformat_minor": 2
}
