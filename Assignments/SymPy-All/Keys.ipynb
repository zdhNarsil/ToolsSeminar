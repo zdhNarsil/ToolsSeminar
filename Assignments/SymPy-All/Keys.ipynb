{
 "cells": [
  {
   "cell_type": "markdown",
   "metadata": {},
   "source": [
    "# Keys"
   ]
  },
  {
   "cell_type": "markdown",
   "metadata": {},
   "source": [
    "# Question1\n",
    "\n",
    "## Description\n",
    "Set the printer of the interactive environment you are using (especially, Jupyter Notebook) to print $\\int_{0}^{\\infty} \\frac{e^{-ax^2}-1}{x^2}dx$ in LaTeX and then compute this integral. ($a\\ge 0$)"
   ]
  },
  {
   "cell_type": "code",
   "execution_count": null,
   "metadata": {},
   "outputs": [],
   "source": [
    "from sympy import *"
   ]
  },
  {
   "cell_type": "code",
   "execution_count": null,
   "metadata": {},
   "outputs": [],
   "source": [
    "x = symbols('x')\n",
    "a = symbols('a', positive=True)\n",
    "init_printing()\n",
    "Integral((exp(-a * x * x) - 1) / (x * x), (x, 0, oo))"
   ]
  },
  {
   "cell_type": "code",
   "execution_count": null,
   "metadata": {},
   "outputs": [],
   "source": [
    "integrate((exp(-a * x * x) - 1) / (x * x), (x, 0, oo))"
   ]
  },
  {
   "cell_type": "markdown",
   "metadata": {},
   "source": [
    "# Question2\n",
    "\n",
    "## Description\n",
    "\n",
    "Apply recurrence formula $I_{n}=1-n I_{n-1}$ to calculate $I_{20}=\\frac{1}{e}\\int_{0}^{1}x^{20}e^x dx$\n",
    "with pure Python and SymPy, and explain the difference between the answers."
   ]
  },
  {
   "cell_type": "code",
   "execution_count": null,
   "metadata": {},
   "outputs": [],
   "source": [
    "import math\n",
    "i = 1 - 1 / math.exp(1)\n",
    "for j in range(20):\n",
    "    i = 1 - (j + 1) * i\n",
    "print(i)"
   ]
  },
  {
   "cell_type": "code",
   "execution_count": null,
   "metadata": {},
   "outputs": [],
   "source": [
    "from sympy import *\n",
    "x = symbols('x')\n",
    "i = integrate(exp(x), (x, 0, 1)) / exp(1)\n",
    "for j in range(20):\n",
    "    i = 1 - (j + 1) * i\n",
    "print(i.evalf())"
   ]
  },
  {
   "cell_type": "markdown",
   "metadata": {},
   "source": [
    "## Comment\n",
    "SymPy 是符号计算，可以给出任意想要的精度. (但依赖于结果有显示解, 一般利用显示解带入)"
   ]
  },
  {
   "cell_type": "markdown",
   "metadata": {},
   "source": [
    "# Question3\n",
    "\n",
    "## Description\n",
    "Use SymPy to solve ODE $y' = (1-\\frac{y}{10000}) y$, and you will a general solution parameterized by $C$.\n",
    "Plot the solution with $C=-1000,-10000, 0.3, 0.7$. (C is the constant in the solution)\n",
    "\n",
    "(Plotting needs Matplotlib, and the general solution is exactly\n",
    "$$\n",
    "f (x) = - \\frac{10000}{ C \\mathrm{e}^{-x} - 1 })\n",
    "$$"
   ]
  },
  {
   "cell_type": "code",
   "execution_count": null,
   "metadata": {},
   "outputs": [],
   "source": [
    "from matplotlib import pyplot\n",
    "\n",
    "from sympy import *\n",
    "from sympy.plotting import plot\n",
    "\n",
    "init_printing()\n",
    "# SymPy use C1 to represent the constant in the solution of ODE\n",
    "C1 = symbols('C1')\n",
    "x = symbols('x')"
   ]
  },
  {
   "cell_type": "code",
   "execution_count": null,
   "metadata": {},
   "outputs": [],
   "source": [
    "f = Function(\"f\")\n",
    "ans = dsolve(Eq(f(x).diff(x) - (1 - f(x) / 10000) * f(x), 0), f(x))"
   ]
  },
  {
   "cell_type": "code",
   "execution_count": null,
   "metadata": {},
   "outputs": [],
   "source": [
    "ans "
   ]
  },
  {
   "cell_type": "code",
   "execution_count": null,
   "metadata": {
    "scrolled": true
   },
   "outputs": [],
   "source": [
    "plot((ans.args[1].subs(C1, -1000), (x, 0, 15)),\n",
    "     (ans.args[1].subs(C1, 0.3), (x, 0, 15)),\n",
    "     (ans.args[1].subs(C1, -10000), (x, 0, 15)),\n",
    "     (ans.args[1].subs(C1, 0.7), (x, 0, 15)))\n",
    "\n",
    "pyplot.show()"
   ]
  },
  {
   "cell_type": "markdown",
   "metadata": {},
   "source": [
    "# Question4\n",
    "\n",
    "## Description\n",
    "Find the minimum point for function $f(x,y)=x^3+y^3-3x-12y$.\n",
    "\n",
    "(Try to find the zero points of partial derivatives)"
   ]
  },
  {
   "cell_type": "code",
   "execution_count": null,
   "metadata": {},
   "outputs": [],
   "source": [
    "from sympy import *  \n",
    "init_printing()"
   ]
  },
  {
   "cell_type": "code",
   "execution_count": null,
   "metadata": {},
   "outputs": [],
   "source": [
    "x, y, z = symbols('x y z')\n",
    "f = x**3 + y**3 - 3 * x - 12 * y\n",
    "ans = solve((Eq(f.diff(x), 0), Eq(f.diff(y), 0)), x, y)\n",
    "print(ans)"
   ]
  },
  {
   "cell_type": "code",
   "execution_count": null,
   "metadata": {},
   "outputs": [],
   "source": [
    "h = hessian(f, (x, y))\n",
    "for i in ans:\n",
    "    tem = h.subs([(x, i[0]), (y, i[1])])\n",
    "    d = tem.eigenvals()\n",
    "    mini = not any([float(j) <= 0 for j in d.keys()])\n",
    "    if mini:\n",
    "        print('the minimum point is ({},{})'.format(i[0], i[1]))"
   ]
  }
 ],
 "metadata": {
  "kernelspec": {
   "display_name": "Python 3",
   "language": "python",
   "name": "python3"
  },
  "language_info": {
   "codemirror_mode": {
    "name": "ipython",
    "version": 3
   },
   "file_extension": ".py",
   "mimetype": "text/x-python",
   "name": "python",
   "nbconvert_exporter": "python",
   "pygments_lexer": "ipython3",
   "version": "3.6.4"
  },
  "varInspector": {
   "cols": {
    "lenName": 16,
    "lenType": 16,
    "lenVar": 40
   },
   "kernels_config": {
    "python": {
     "delete_cmd_postfix": "",
     "delete_cmd_prefix": "del ",
     "library": "var_list.py",
     "varRefreshCmd": "print(var_dic_list())"
    },
    "r": {
     "delete_cmd_postfix": ") ",
     "delete_cmd_prefix": "rm(",
     "library": "var_list.r",
     "varRefreshCmd": "cat(var_dic_list()) "
    }
   },
   "types_to_exclude": [
    "module",
    "function",
    "builtin_function_or_method",
    "instance",
    "_Feature"
   ],
   "window_display": false
  }
 },
 "nbformat": 4,
 "nbformat_minor": 2
}
