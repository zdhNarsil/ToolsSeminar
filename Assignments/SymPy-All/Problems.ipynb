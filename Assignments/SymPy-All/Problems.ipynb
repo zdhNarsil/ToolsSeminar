{
 "cells": [
  {
   "cell_type": "markdown",
   "metadata": {},
   "source": [
    "# Question1\n",
    "\n",
    "## Description\n",
    "Set the printer of the interactive environment you are using (especially, Jupyter Notebook) to print $\\int_{0}^{\\infty} \\frac{e^{-ax^2}-1}{x^2}dx$ in LaTeX and then compute this integral. ($a\\ge 0$)\n",
    "\n",
    "## Your implementation"
   ]
  },
  {
   "cell_type": "code",
   "execution_count": null,
   "metadata": {},
   "outputs": [],
   "source": [
    "from sympy import *"
   ]
  },
  {
   "cell_type": "code",
   "execution_count": null,
   "metadata": {},
   "outputs": [],
   "source": [
    "# your code"
   ]
  },
  {
   "cell_type": "markdown",
   "metadata": {},
   "source": [
    "# Question2\n",
    "\n",
    "## Description\n",
    "Apply recurrence formula $I_{n}=1-n I_{n-1}$ to calculate $I_{20}=\\frac{1}{e}\\int_{0}^{1}x^{20}e^x dx$\n",
    "with pure Python and SymPy, and explain the difference between the answers.\n",
    "\n",
    "## Your implementation"
   ]
  },
  {
   "cell_type": "code",
   "execution_count": null,
   "metadata": {},
   "outputs": [],
   "source": [
    "import math\n",
    "\n",
    "# your code"
   ]
  },
  {
   "cell_type": "code",
   "execution_count": null,
   "metadata": {},
   "outputs": [],
   "source": [
    "from sympy import *\n",
    "\n",
    "# your code"
   ]
  },
  {
   "cell_type": "markdown",
   "metadata": {},
   "source": [
    "# Question3\n",
    "\n",
    "## Description\n",
    "Use SymPy to solve ODE $y' = (1-\\frac{y}{10000}) y$, and you will a general solution parameterized by $C$.\n",
    "Plot the solution with $C=-1000,-10000, 0.3, 0.7$. (C is the constant in the solution)\n",
    "\n",
    "(Plotting needs Matplotlib, and the general solution is exactly\n",
    "$$\n",
    "f (x) = - \\frac{10000}{ C \\mathrm{e}^{-x} - 1 })\n",
    "$$"
   ]
  },
  {
   "cell_type": "code",
   "execution_count": null,
   "metadata": {},
   "outputs": [],
   "source": [
    "from matplotlib import pyplot\n",
    "\n",
    "from sympy import *\n",
    "from sympy.plotting import plot\n",
    "\n",
    "init_printing()\n",
    "# SymPy use C1 to represent the constant in the solution of ODE\n",
    "C1 = symbols('C1')\n",
    "x = symbols('x')"
   ]
  },
  {
   "cell_type": "code",
   "execution_count": null,
   "metadata": {},
   "outputs": [],
   "source": [
    "# your code\n",
    "\n",
    "# Remember to use pyplot.show()\n",
    "pyplot.show()"
   ]
  },
  {
   "cell_type": "markdown",
   "metadata": {},
   "source": [
    "# Question4\n",
    "\n",
    "## Description\n",
    "Find the minimum point for function $f(x,y)=x^3+y^3-3x-12y$.\n",
    "\n",
    "(Try to find the zero points of partial derivatives)\n",
    "\n",
    "## Your implementation"
   ]
  },
  {
   "cell_type": "code",
   "execution_count": null,
   "metadata": {},
   "outputs": [],
   "source": [
    "from sympy import *  \n",
    "init_printing()"
   ]
  },
  {
   "cell_type": "code",
   "execution_count": null,
   "metadata": {},
   "outputs": [],
   "source": [
    "# your code"
   ]
  }
 ],
 "metadata": {
  "kernelspec": {
   "display_name": "Python 3",
   "language": "python",
   "name": "python3"
  },
  "language_info": {
   "codemirror_mode": {
    "name": "ipython",
    "version": 3
   },
   "file_extension": ".py",
   "mimetype": "text/x-python",
   "name": "python",
   "nbconvert_exporter": "python",
   "pygments_lexer": "ipython3",
   "version": "3.6.4"
  },
  "varInspector": {
   "cols": {
    "lenName": 16,
    "lenType": 16,
    "lenVar": 40
   },
   "kernels_config": {
    "python": {
     "delete_cmd_postfix": "",
     "delete_cmd_prefix": "del ",
     "library": "var_list.py",
     "varRefreshCmd": "print(var_dic_list())"
    },
    "r": {
     "delete_cmd_postfix": ") ",
     "delete_cmd_prefix": "rm(",
     "library": "var_list.r",
     "varRefreshCmd": "cat(var_dic_list()) "
    }
   },
   "types_to_exclude": [
    "module",
    "function",
    "builtin_function_or_method",
    "instance",
    "_Feature"
   ],
   "window_display": false
  }
 },
 "nbformat": 4,
 "nbformat_minor": 2
}
